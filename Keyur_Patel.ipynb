{
  "nbformat": 4,
  "nbformat_minor": 0,
  "metadata": {
    "colab": {
      "name": "Keyur_Patel.ipynb",
      "provenance": []
    },
    "kernelspec": {
      "name": "python3",
      "display_name": "Python 3"
    },
    "language_info": {
      "name": "python"
    }
  },
  "cells": [
    {
      "cell_type": "code",
      "metadata": {
        "colab": {
          "base_uri": "https://localhost:8080/"
        },
        "id": "oU_r0bRiOFAx",
        "outputId": "ab0f2f4c-fe01-4644-afb4-8337aa3a85a1"
      },
      "source": [
        "import requests\n",
        "from datetime import datetime\n",
        "\n",
        "api_key = 'ad929c8db7bf2f0487d055f9f38581bd'\n",
        "location = input(\"Enter the city name: \")\n",
        "\n",
        "\n",
        "complete_api_link = \"https://api.openweathermap.org/data/2.5/weather?q=\"+location+\"&appid=\"+api_key\n",
        "api_link = requests.get(complete_api_link)\n",
        "api_data = api_link.json()\n",
        "\n",
        "#create variables to store and display data\n",
        "temp_city = ((api_data['main']['temp']) - 273.15)\n",
        "weather_desc = (api_data['weather'][0]['description'])\n",
        "hmdt = api_data['main']['humidity']\n",
        "wind_spd = api_data['wind']['speed']\n",
        "date_time = datetime.now().strftime(\"%d %b %Y | %I:%M:%S %p\")\n",
        "\n",
        "print (\"-------------------------------------------------------------\")\n",
        "print (\"Weather Stats for - {}  || {}\".format(location.upper(), date_time))\n",
        "print (\"-------------------------------------------------------------\")\n",
        "\n",
        "print (\"Current temperature is: {:.2f} deg C\".format(temp_city))\n",
        "print (\"Current weather desc  :\",weather_desc)\n",
        "print (\"Current Humidity      :\",hmdt, '%')\n",
        "print (\"Current wind speed    :\",wind_spd ,'kmph')\n",
        "\n",
        "f = open(\"/boot/outputfile.txt\", \"a\")\n",
        "f.write(\"Weather Stats for - {}  || {}\\n\".format(location.upper(), date_time))\n",
        "f.write(\"Current temperature is: {:.2f} deg C\\n\".format(temp_city))\n",
        "f.write(\"\\nCurrent weather desc  : {} \\n\".format(weather_desc))\n",
        "f.write(\"\\nCurrent Humidity      :{}% \\n\".format(hmdt))\n",
        "f.write(\"\\nCurrent wind speed    :{}kmph \\n\".format(wind_spd))\n",
        "f.close()\n"
      ],
      "execution_count": 25,
      "outputs": [
        {
          "output_type": "stream",
          "text": [
            "Enter the city name: Delhi\n",
            "-------------------------------------------------------------\n",
            "Weather Stats for - DELHI  || 22 Jun 2021 | 04:31:22 PM\n",
            "-------------------------------------------------------------\n",
            "Current temperature is: 36.05 deg C\n",
            "Current weather desc  : haze\n",
            "Current Humidity      : 32 %\n",
            "Current wind speed    : 0 kmph\n"
          ],
          "name": "stdout"
        }
      ]
    }
  ]
}